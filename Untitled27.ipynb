{
  "nbformat": 4,
  "nbformat_minor": 0,
  "metadata": {
    "colab": {
      "provenance": [],
      "authorship_tag": "ABX9TyPwGnt4Udahi9T9y7E+f9bl",
      "include_colab_link": true
    },
    "kernelspec": {
      "name": "python3",
      "display_name": "Python 3"
    },
    "language_info": {
      "name": "python"
    }
  },
  "cells": [
    {
      "cell_type": "markdown",
      "metadata": {
        "id": "view-in-github",
        "colab_type": "text"
      },
      "source": [
        "<a href=\"https://colab.research.google.com/github/axshay007/HAMOYE_code_assignment/blob/main/Untitled27.ipynb\" target=\"_parent\"><img src=\"https://colab.research.google.com/assets/colab-badge.svg\" alt=\"Open In Colab\"/></a>"
      ]
    },
    {
      "cell_type": "code",
      "execution_count": 103,
      "metadata": {
        "id": "IqwX36feQB3d"
      },
      "outputs": [],
      "source": [
        "import numpy as np\n",
        "import pandas as pd\n",
        "import seaborn as sns\n",
        "from sklearn.ensemble import RandomForestClassifier\n",
        "from sklearn.ensemble import ExtraTreesClassifier\n",
        "from xgboost import XGBClassifier\n",
        "import lazypredict\n",
        "import matplotlib.pyplot as plt\n",
        "from sklearn.model_selection import train_test_split"
      ]
    },
    {
      "cell_type": "code",
      "source": [
        "df = pd.read_csv('/content/Data_for_UCI_named.csv')"
      ],
      "metadata": {
        "id": "Kputko6EQXTD"
      },
      "execution_count": 104,
      "outputs": []
    },
    {
      "cell_type": "code",
      "source": [
        "df.head(10)"
      ],
      "metadata": {
        "colab": {
          "base_uri": "https://localhost:8080/",
          "height": 363
        },
        "id": "mfTn2Rk4SewU",
        "outputId": "37d0bf35-0889-4916-f25c-68c7d9159f13"
      },
      "execution_count": 105,
      "outputs": [
        {
          "output_type": "execute_result",
          "data": {
            "text/plain": [
              "   tau1  tau2  tau3  tau4   p1    p2    p3    p4   g1   g2   g3   g4  stab  \\\n",
              "0  2.96  3.08  8.38  9.78 3.76 -0.78 -1.26 -1.72 0.65 0.86 0.89 0.96  0.06   \n",
              "1  9.30  4.90  3.05  1.37 5.07 -1.94 -1.87 -1.26 0.41 0.86 0.56 0.78 -0.01   \n",
              "2  8.97  8.85  3.05  1.21 3.41 -1.21 -1.28 -0.92 0.16 0.77 0.84 0.11  0.00   \n",
              "3  0.72  7.67  4.49  2.34 3.96 -1.03 -1.94 -1.00 0.45 0.98 0.93 0.36  0.03   \n",
              "4  3.13  7.61  4.94  9.86 3.53 -1.13 -1.85 -0.55 0.80 0.46 0.66 0.82  0.05   \n",
              "5  7.00  9.11  3.78  4.27 4.43 -1.86 -0.67 -1.90 0.26 0.08 0.54 0.47 -0.02   \n",
              "6  6.71  3.77  6.93  8.82 2.40 -0.61 -1.21 -0.57 0.18 0.40 0.40 0.38  0.01   \n",
              "7  6.95  1.38  5.72  7.87 3.22 -0.75 -1.19 -1.29 0.37 0.63 0.73 0.38  0.02   \n",
              "8  4.69  4.01  1.48  3.73 4.04 -1.41 -1.24 -1.39 0.27 0.25 0.16 0.48 -0.04   \n",
              "9  9.84  1.41  9.77  7.64 4.73 -1.99 -0.86 -1.88 0.38 0.54 0.79 0.12  0.01   \n",
              "\n",
              "      stabf  \n",
              "0  unstable  \n",
              "1    stable  \n",
              "2  unstable  \n",
              "3  unstable  \n",
              "4  unstable  \n",
              "5    stable  \n",
              "6  unstable  \n",
              "7  unstable  \n",
              "8    stable  \n",
              "9  unstable  "
            ],
            "text/html": [
              "\n",
              "  <div id=\"df-91cae796-afc3-41b1-9d3b-3e21535dc50e\">\n",
              "    <div class=\"colab-df-container\">\n",
              "      <div>\n",
              "<style scoped>\n",
              "    .dataframe tbody tr th:only-of-type {\n",
              "        vertical-align: middle;\n",
              "    }\n",
              "\n",
              "    .dataframe tbody tr th {\n",
              "        vertical-align: top;\n",
              "    }\n",
              "\n",
              "    .dataframe thead th {\n",
              "        text-align: right;\n",
              "    }\n",
              "</style>\n",
              "<table border=\"1\" class=\"dataframe\">\n",
              "  <thead>\n",
              "    <tr style=\"text-align: right;\">\n",
              "      <th></th>\n",
              "      <th>tau1</th>\n",
              "      <th>tau2</th>\n",
              "      <th>tau3</th>\n",
              "      <th>tau4</th>\n",
              "      <th>p1</th>\n",
              "      <th>p2</th>\n",
              "      <th>p3</th>\n",
              "      <th>p4</th>\n",
              "      <th>g1</th>\n",
              "      <th>g2</th>\n",
              "      <th>g3</th>\n",
              "      <th>g4</th>\n",
              "      <th>stab</th>\n",
              "      <th>stabf</th>\n",
              "    </tr>\n",
              "  </thead>\n",
              "  <tbody>\n",
              "    <tr>\n",
              "      <th>0</th>\n",
              "      <td>2.96</td>\n",
              "      <td>3.08</td>\n",
              "      <td>8.38</td>\n",
              "      <td>9.78</td>\n",
              "      <td>3.76</td>\n",
              "      <td>-0.78</td>\n",
              "      <td>-1.26</td>\n",
              "      <td>-1.72</td>\n",
              "      <td>0.65</td>\n",
              "      <td>0.86</td>\n",
              "      <td>0.89</td>\n",
              "      <td>0.96</td>\n",
              "      <td>0.06</td>\n",
              "      <td>unstable</td>\n",
              "    </tr>\n",
              "    <tr>\n",
              "      <th>1</th>\n",
              "      <td>9.30</td>\n",
              "      <td>4.90</td>\n",
              "      <td>3.05</td>\n",
              "      <td>1.37</td>\n",
              "      <td>5.07</td>\n",
              "      <td>-1.94</td>\n",
              "      <td>-1.87</td>\n",
              "      <td>-1.26</td>\n",
              "      <td>0.41</td>\n",
              "      <td>0.86</td>\n",
              "      <td>0.56</td>\n",
              "      <td>0.78</td>\n",
              "      <td>-0.01</td>\n",
              "      <td>stable</td>\n",
              "    </tr>\n",
              "    <tr>\n",
              "      <th>2</th>\n",
              "      <td>8.97</td>\n",
              "      <td>8.85</td>\n",
              "      <td>3.05</td>\n",
              "      <td>1.21</td>\n",
              "      <td>3.41</td>\n",
              "      <td>-1.21</td>\n",
              "      <td>-1.28</td>\n",
              "      <td>-0.92</td>\n",
              "      <td>0.16</td>\n",
              "      <td>0.77</td>\n",
              "      <td>0.84</td>\n",
              "      <td>0.11</td>\n",
              "      <td>0.00</td>\n",
              "      <td>unstable</td>\n",
              "    </tr>\n",
              "    <tr>\n",
              "      <th>3</th>\n",
              "      <td>0.72</td>\n",
              "      <td>7.67</td>\n",
              "      <td>4.49</td>\n",
              "      <td>2.34</td>\n",
              "      <td>3.96</td>\n",
              "      <td>-1.03</td>\n",
              "      <td>-1.94</td>\n",
              "      <td>-1.00</td>\n",
              "      <td>0.45</td>\n",
              "      <td>0.98</td>\n",
              "      <td>0.93</td>\n",
              "      <td>0.36</td>\n",
              "      <td>0.03</td>\n",
              "      <td>unstable</td>\n",
              "    </tr>\n",
              "    <tr>\n",
              "      <th>4</th>\n",
              "      <td>3.13</td>\n",
              "      <td>7.61</td>\n",
              "      <td>4.94</td>\n",
              "      <td>9.86</td>\n",
              "      <td>3.53</td>\n",
              "      <td>-1.13</td>\n",
              "      <td>-1.85</td>\n",
              "      <td>-0.55</td>\n",
              "      <td>0.80</td>\n",
              "      <td>0.46</td>\n",
              "      <td>0.66</td>\n",
              "      <td>0.82</td>\n",
              "      <td>0.05</td>\n",
              "      <td>unstable</td>\n",
              "    </tr>\n",
              "    <tr>\n",
              "      <th>5</th>\n",
              "      <td>7.00</td>\n",
              "      <td>9.11</td>\n",
              "      <td>3.78</td>\n",
              "      <td>4.27</td>\n",
              "      <td>4.43</td>\n",
              "      <td>-1.86</td>\n",
              "      <td>-0.67</td>\n",
              "      <td>-1.90</td>\n",
              "      <td>0.26</td>\n",
              "      <td>0.08</td>\n",
              "      <td>0.54</td>\n",
              "      <td>0.47</td>\n",
              "      <td>-0.02</td>\n",
              "      <td>stable</td>\n",
              "    </tr>\n",
              "    <tr>\n",
              "      <th>6</th>\n",
              "      <td>6.71</td>\n",
              "      <td>3.77</td>\n",
              "      <td>6.93</td>\n",
              "      <td>8.82</td>\n",
              "      <td>2.40</td>\n",
              "      <td>-0.61</td>\n",
              "      <td>-1.21</td>\n",
              "      <td>-0.57</td>\n",
              "      <td>0.18</td>\n",
              "      <td>0.40</td>\n",
              "      <td>0.40</td>\n",
              "      <td>0.38</td>\n",
              "      <td>0.01</td>\n",
              "      <td>unstable</td>\n",
              "    </tr>\n",
              "    <tr>\n",
              "      <th>7</th>\n",
              "      <td>6.95</td>\n",
              "      <td>1.38</td>\n",
              "      <td>5.72</td>\n",
              "      <td>7.87</td>\n",
              "      <td>3.22</td>\n",
              "      <td>-0.75</td>\n",
              "      <td>-1.19</td>\n",
              "      <td>-1.29</td>\n",
              "      <td>0.37</td>\n",
              "      <td>0.63</td>\n",
              "      <td>0.73</td>\n",
              "      <td>0.38</td>\n",
              "      <td>0.02</td>\n",
              "      <td>unstable</td>\n",
              "    </tr>\n",
              "    <tr>\n",
              "      <th>8</th>\n",
              "      <td>4.69</td>\n",
              "      <td>4.01</td>\n",
              "      <td>1.48</td>\n",
              "      <td>3.73</td>\n",
              "      <td>4.04</td>\n",
              "      <td>-1.41</td>\n",
              "      <td>-1.24</td>\n",
              "      <td>-1.39</td>\n",
              "      <td>0.27</td>\n",
              "      <td>0.25</td>\n",
              "      <td>0.16</td>\n",
              "      <td>0.48</td>\n",
              "      <td>-0.04</td>\n",
              "      <td>stable</td>\n",
              "    </tr>\n",
              "    <tr>\n",
              "      <th>9</th>\n",
              "      <td>9.84</td>\n",
              "      <td>1.41</td>\n",
              "      <td>9.77</td>\n",
              "      <td>7.64</td>\n",
              "      <td>4.73</td>\n",
              "      <td>-1.99</td>\n",
              "      <td>-0.86</td>\n",
              "      <td>-1.88</td>\n",
              "      <td>0.38</td>\n",
              "      <td>0.54</td>\n",
              "      <td>0.79</td>\n",
              "      <td>0.12</td>\n",
              "      <td>0.01</td>\n",
              "      <td>unstable</td>\n",
              "    </tr>\n",
              "  </tbody>\n",
              "</table>\n",
              "</div>\n",
              "      <button class=\"colab-df-convert\" onclick=\"convertToInteractive('df-91cae796-afc3-41b1-9d3b-3e21535dc50e')\"\n",
              "              title=\"Convert this dataframe to an interactive table.\"\n",
              "              style=\"display:none;\">\n",
              "        \n",
              "  <svg xmlns=\"http://www.w3.org/2000/svg\" height=\"24px\"viewBox=\"0 0 24 24\"\n",
              "       width=\"24px\">\n",
              "    <path d=\"M0 0h24v24H0V0z\" fill=\"none\"/>\n",
              "    <path d=\"M18.56 5.44l.94 2.06.94-2.06 2.06-.94-2.06-.94-.94-2.06-.94 2.06-2.06.94zm-11 1L8.5 8.5l.94-2.06 2.06-.94-2.06-.94L8.5 2.5l-.94 2.06-2.06.94zm10 10l.94 2.06.94-2.06 2.06-.94-2.06-.94-.94-2.06-.94 2.06-2.06.94z\"/><path d=\"M17.41 7.96l-1.37-1.37c-.4-.4-.92-.59-1.43-.59-.52 0-1.04.2-1.43.59L10.3 9.45l-7.72 7.72c-.78.78-.78 2.05 0 2.83L4 21.41c.39.39.9.59 1.41.59.51 0 1.02-.2 1.41-.59l7.78-7.78 2.81-2.81c.8-.78.8-2.07 0-2.86zM5.41 20L4 18.59l7.72-7.72 1.47 1.35L5.41 20z\"/>\n",
              "  </svg>\n",
              "      </button>\n",
              "      \n",
              "  <style>\n",
              "    .colab-df-container {\n",
              "      display:flex;\n",
              "      flex-wrap:wrap;\n",
              "      gap: 12px;\n",
              "    }\n",
              "\n",
              "    .colab-df-convert {\n",
              "      background-color: #E8F0FE;\n",
              "      border: none;\n",
              "      border-radius: 50%;\n",
              "      cursor: pointer;\n",
              "      display: none;\n",
              "      fill: #1967D2;\n",
              "      height: 32px;\n",
              "      padding: 0 0 0 0;\n",
              "      width: 32px;\n",
              "    }\n",
              "\n",
              "    .colab-df-convert:hover {\n",
              "      background-color: #E2EBFA;\n",
              "      box-shadow: 0px 1px 2px rgba(60, 64, 67, 0.3), 0px 1px 3px 1px rgba(60, 64, 67, 0.15);\n",
              "      fill: #174EA6;\n",
              "    }\n",
              "\n",
              "    [theme=dark] .colab-df-convert {\n",
              "      background-color: #3B4455;\n",
              "      fill: #D2E3FC;\n",
              "    }\n",
              "\n",
              "    [theme=dark] .colab-df-convert:hover {\n",
              "      background-color: #434B5C;\n",
              "      box-shadow: 0px 1px 3px 1px rgba(0, 0, 0, 0.15);\n",
              "      filter: drop-shadow(0px 1px 2px rgba(0, 0, 0, 0.3));\n",
              "      fill: #FFFFFF;\n",
              "    }\n",
              "  </style>\n",
              "\n",
              "      <script>\n",
              "        const buttonEl =\n",
              "          document.querySelector('#df-91cae796-afc3-41b1-9d3b-3e21535dc50e button.colab-df-convert');\n",
              "        buttonEl.style.display =\n",
              "          google.colab.kernel.accessAllowed ? 'block' : 'none';\n",
              "\n",
              "        async function convertToInteractive(key) {\n",
              "          const element = document.querySelector('#df-91cae796-afc3-41b1-9d3b-3e21535dc50e');\n",
              "          const dataTable =\n",
              "            await google.colab.kernel.invokeFunction('convertToInteractive',\n",
              "                                                     [key], {});\n",
              "          if (!dataTable) return;\n",
              "\n",
              "          const docLinkHtml = 'Like what you see? Visit the ' +\n",
              "            '<a target=\"_blank\" href=https://colab.research.google.com/notebooks/data_table.ipynb>data table notebook</a>'\n",
              "            + ' to learn more about interactive tables.';\n",
              "          element.innerHTML = '';\n",
              "          dataTable['output_type'] = 'display_data';\n",
              "          await google.colab.output.renderOutput(dataTable, element);\n",
              "          const docLink = document.createElement('div');\n",
              "          docLink.innerHTML = docLinkHtml;\n",
              "          element.appendChild(docLink);\n",
              "        }\n",
              "      </script>\n",
              "    </div>\n",
              "  </div>\n",
              "  "
            ]
          },
          "metadata": {},
          "execution_count": 105
        }
      ]
    },
    {
      "cell_type": "code",
      "source": [
        "df.info()"
      ],
      "metadata": {
        "colab": {
          "base_uri": "https://localhost:8080/"
        },
        "id": "OrDeheUiWxBk",
        "outputId": "33f44352-9278-4f5a-d8bc-4269f3f11501"
      },
      "execution_count": 106,
      "outputs": [
        {
          "output_type": "stream",
          "name": "stdout",
          "text": [
            "<class 'pandas.core.frame.DataFrame'>\n",
            "RangeIndex: 10000 entries, 0 to 9999\n",
            "Data columns (total 14 columns):\n",
            " #   Column  Non-Null Count  Dtype  \n",
            "---  ------  --------------  -----  \n",
            " 0   tau1    10000 non-null  float64\n",
            " 1   tau2    10000 non-null  float64\n",
            " 2   tau3    10000 non-null  float64\n",
            " 3   tau4    10000 non-null  float64\n",
            " 4   p1      10000 non-null  float64\n",
            " 5   p2      10000 non-null  float64\n",
            " 6   p3      10000 non-null  float64\n",
            " 7   p4      10000 non-null  float64\n",
            " 8   g1      10000 non-null  float64\n",
            " 9   g2      10000 non-null  float64\n",
            " 10  g3      10000 non-null  float64\n",
            " 11  g4      10000 non-null  float64\n",
            " 12  stab    10000 non-null  float64\n",
            " 13  stabf   10000 non-null  object \n",
            "dtypes: float64(13), object(1)\n",
            "memory usage: 1.1+ MB\n"
          ]
        }
      ]
    },
    {
      "cell_type": "code",
      "source": [
        "df=df.drop('stab', axis=1)"
      ],
      "metadata": {
        "id": "wmf24HBfXkzn"
      },
      "execution_count": 107,
      "outputs": []
    },
    {
      "cell_type": "code",
      "source": [
        "df.head(10)"
      ],
      "metadata": {
        "id": "YtIJCpg7ZAQd",
        "outputId": "3bc781d3-7cbf-48be-e8af-56272d25d638",
        "colab": {
          "base_uri": "https://localhost:8080/",
          "height": 363
        }
      },
      "execution_count": 108,
      "outputs": [
        {
          "output_type": "execute_result",
          "data": {
            "text/plain": [
              "   tau1  tau2  tau3  tau4   p1    p2    p3    p4   g1   g2   g3   g4     stabf\n",
              "0  2.96  3.08  8.38  9.78 3.76 -0.78 -1.26 -1.72 0.65 0.86 0.89 0.96  unstable\n",
              "1  9.30  4.90  3.05  1.37 5.07 -1.94 -1.87 -1.26 0.41 0.86 0.56 0.78    stable\n",
              "2  8.97  8.85  3.05  1.21 3.41 -1.21 -1.28 -0.92 0.16 0.77 0.84 0.11  unstable\n",
              "3  0.72  7.67  4.49  2.34 3.96 -1.03 -1.94 -1.00 0.45 0.98 0.93 0.36  unstable\n",
              "4  3.13  7.61  4.94  9.86 3.53 -1.13 -1.85 -0.55 0.80 0.46 0.66 0.82  unstable\n",
              "5  7.00  9.11  3.78  4.27 4.43 -1.86 -0.67 -1.90 0.26 0.08 0.54 0.47    stable\n",
              "6  6.71  3.77  6.93  8.82 2.40 -0.61 -1.21 -0.57 0.18 0.40 0.40 0.38  unstable\n",
              "7  6.95  1.38  5.72  7.87 3.22 -0.75 -1.19 -1.29 0.37 0.63 0.73 0.38  unstable\n",
              "8  4.69  4.01  1.48  3.73 4.04 -1.41 -1.24 -1.39 0.27 0.25 0.16 0.48    stable\n",
              "9  9.84  1.41  9.77  7.64 4.73 -1.99 -0.86 -1.88 0.38 0.54 0.79 0.12  unstable"
            ],
            "text/html": [
              "\n",
              "  <div id=\"df-28e49502-5b7a-41c3-873d-2ca38ec1154a\">\n",
              "    <div class=\"colab-df-container\">\n",
              "      <div>\n",
              "<style scoped>\n",
              "    .dataframe tbody tr th:only-of-type {\n",
              "        vertical-align: middle;\n",
              "    }\n",
              "\n",
              "    .dataframe tbody tr th {\n",
              "        vertical-align: top;\n",
              "    }\n",
              "\n",
              "    .dataframe thead th {\n",
              "        text-align: right;\n",
              "    }\n",
              "</style>\n",
              "<table border=\"1\" class=\"dataframe\">\n",
              "  <thead>\n",
              "    <tr style=\"text-align: right;\">\n",
              "      <th></th>\n",
              "      <th>tau1</th>\n",
              "      <th>tau2</th>\n",
              "      <th>tau3</th>\n",
              "      <th>tau4</th>\n",
              "      <th>p1</th>\n",
              "      <th>p2</th>\n",
              "      <th>p3</th>\n",
              "      <th>p4</th>\n",
              "      <th>g1</th>\n",
              "      <th>g2</th>\n",
              "      <th>g3</th>\n",
              "      <th>g4</th>\n",
              "      <th>stabf</th>\n",
              "    </tr>\n",
              "  </thead>\n",
              "  <tbody>\n",
              "    <tr>\n",
              "      <th>0</th>\n",
              "      <td>2.96</td>\n",
              "      <td>3.08</td>\n",
              "      <td>8.38</td>\n",
              "      <td>9.78</td>\n",
              "      <td>3.76</td>\n",
              "      <td>-0.78</td>\n",
              "      <td>-1.26</td>\n",
              "      <td>-1.72</td>\n",
              "      <td>0.65</td>\n",
              "      <td>0.86</td>\n",
              "      <td>0.89</td>\n",
              "      <td>0.96</td>\n",
              "      <td>unstable</td>\n",
              "    </tr>\n",
              "    <tr>\n",
              "      <th>1</th>\n",
              "      <td>9.30</td>\n",
              "      <td>4.90</td>\n",
              "      <td>3.05</td>\n",
              "      <td>1.37</td>\n",
              "      <td>5.07</td>\n",
              "      <td>-1.94</td>\n",
              "      <td>-1.87</td>\n",
              "      <td>-1.26</td>\n",
              "      <td>0.41</td>\n",
              "      <td>0.86</td>\n",
              "      <td>0.56</td>\n",
              "      <td>0.78</td>\n",
              "      <td>stable</td>\n",
              "    </tr>\n",
              "    <tr>\n",
              "      <th>2</th>\n",
              "      <td>8.97</td>\n",
              "      <td>8.85</td>\n",
              "      <td>3.05</td>\n",
              "      <td>1.21</td>\n",
              "      <td>3.41</td>\n",
              "      <td>-1.21</td>\n",
              "      <td>-1.28</td>\n",
              "      <td>-0.92</td>\n",
              "      <td>0.16</td>\n",
              "      <td>0.77</td>\n",
              "      <td>0.84</td>\n",
              "      <td>0.11</td>\n",
              "      <td>unstable</td>\n",
              "    </tr>\n",
              "    <tr>\n",
              "      <th>3</th>\n",
              "      <td>0.72</td>\n",
              "      <td>7.67</td>\n",
              "      <td>4.49</td>\n",
              "      <td>2.34</td>\n",
              "      <td>3.96</td>\n",
              "      <td>-1.03</td>\n",
              "      <td>-1.94</td>\n",
              "      <td>-1.00</td>\n",
              "      <td>0.45</td>\n",
              "      <td>0.98</td>\n",
              "      <td>0.93</td>\n",
              "      <td>0.36</td>\n",
              "      <td>unstable</td>\n",
              "    </tr>\n",
              "    <tr>\n",
              "      <th>4</th>\n",
              "      <td>3.13</td>\n",
              "      <td>7.61</td>\n",
              "      <td>4.94</td>\n",
              "      <td>9.86</td>\n",
              "      <td>3.53</td>\n",
              "      <td>-1.13</td>\n",
              "      <td>-1.85</td>\n",
              "      <td>-0.55</td>\n",
              "      <td>0.80</td>\n",
              "      <td>0.46</td>\n",
              "      <td>0.66</td>\n",
              "      <td>0.82</td>\n",
              "      <td>unstable</td>\n",
              "    </tr>\n",
              "    <tr>\n",
              "      <th>5</th>\n",
              "      <td>7.00</td>\n",
              "      <td>9.11</td>\n",
              "      <td>3.78</td>\n",
              "      <td>4.27</td>\n",
              "      <td>4.43</td>\n",
              "      <td>-1.86</td>\n",
              "      <td>-0.67</td>\n",
              "      <td>-1.90</td>\n",
              "      <td>0.26</td>\n",
              "      <td>0.08</td>\n",
              "      <td>0.54</td>\n",
              "      <td>0.47</td>\n",
              "      <td>stable</td>\n",
              "    </tr>\n",
              "    <tr>\n",
              "      <th>6</th>\n",
              "      <td>6.71</td>\n",
              "      <td>3.77</td>\n",
              "      <td>6.93</td>\n",
              "      <td>8.82</td>\n",
              "      <td>2.40</td>\n",
              "      <td>-0.61</td>\n",
              "      <td>-1.21</td>\n",
              "      <td>-0.57</td>\n",
              "      <td>0.18</td>\n",
              "      <td>0.40</td>\n",
              "      <td>0.40</td>\n",
              "      <td>0.38</td>\n",
              "      <td>unstable</td>\n",
              "    </tr>\n",
              "    <tr>\n",
              "      <th>7</th>\n",
              "      <td>6.95</td>\n",
              "      <td>1.38</td>\n",
              "      <td>5.72</td>\n",
              "      <td>7.87</td>\n",
              "      <td>3.22</td>\n",
              "      <td>-0.75</td>\n",
              "      <td>-1.19</td>\n",
              "      <td>-1.29</td>\n",
              "      <td>0.37</td>\n",
              "      <td>0.63</td>\n",
              "      <td>0.73</td>\n",
              "      <td>0.38</td>\n",
              "      <td>unstable</td>\n",
              "    </tr>\n",
              "    <tr>\n",
              "      <th>8</th>\n",
              "      <td>4.69</td>\n",
              "      <td>4.01</td>\n",
              "      <td>1.48</td>\n",
              "      <td>3.73</td>\n",
              "      <td>4.04</td>\n",
              "      <td>-1.41</td>\n",
              "      <td>-1.24</td>\n",
              "      <td>-1.39</td>\n",
              "      <td>0.27</td>\n",
              "      <td>0.25</td>\n",
              "      <td>0.16</td>\n",
              "      <td>0.48</td>\n",
              "      <td>stable</td>\n",
              "    </tr>\n",
              "    <tr>\n",
              "      <th>9</th>\n",
              "      <td>9.84</td>\n",
              "      <td>1.41</td>\n",
              "      <td>9.77</td>\n",
              "      <td>7.64</td>\n",
              "      <td>4.73</td>\n",
              "      <td>-1.99</td>\n",
              "      <td>-0.86</td>\n",
              "      <td>-1.88</td>\n",
              "      <td>0.38</td>\n",
              "      <td>0.54</td>\n",
              "      <td>0.79</td>\n",
              "      <td>0.12</td>\n",
              "      <td>unstable</td>\n",
              "    </tr>\n",
              "  </tbody>\n",
              "</table>\n",
              "</div>\n",
              "      <button class=\"colab-df-convert\" onclick=\"convertToInteractive('df-28e49502-5b7a-41c3-873d-2ca38ec1154a')\"\n",
              "              title=\"Convert this dataframe to an interactive table.\"\n",
              "              style=\"display:none;\">\n",
              "        \n",
              "  <svg xmlns=\"http://www.w3.org/2000/svg\" height=\"24px\"viewBox=\"0 0 24 24\"\n",
              "       width=\"24px\">\n",
              "    <path d=\"M0 0h24v24H0V0z\" fill=\"none\"/>\n",
              "    <path d=\"M18.56 5.44l.94 2.06.94-2.06 2.06-.94-2.06-.94-.94-2.06-.94 2.06-2.06.94zm-11 1L8.5 8.5l.94-2.06 2.06-.94-2.06-.94L8.5 2.5l-.94 2.06-2.06.94zm10 10l.94 2.06.94-2.06 2.06-.94-2.06-.94-.94-2.06-.94 2.06-2.06.94z\"/><path d=\"M17.41 7.96l-1.37-1.37c-.4-.4-.92-.59-1.43-.59-.52 0-1.04.2-1.43.59L10.3 9.45l-7.72 7.72c-.78.78-.78 2.05 0 2.83L4 21.41c.39.39.9.59 1.41.59.51 0 1.02-.2 1.41-.59l7.78-7.78 2.81-2.81c.8-.78.8-2.07 0-2.86zM5.41 20L4 18.59l7.72-7.72 1.47 1.35L5.41 20z\"/>\n",
              "  </svg>\n",
              "      </button>\n",
              "      \n",
              "  <style>\n",
              "    .colab-df-container {\n",
              "      display:flex;\n",
              "      flex-wrap:wrap;\n",
              "      gap: 12px;\n",
              "    }\n",
              "\n",
              "    .colab-df-convert {\n",
              "      background-color: #E8F0FE;\n",
              "      border: none;\n",
              "      border-radius: 50%;\n",
              "      cursor: pointer;\n",
              "      display: none;\n",
              "      fill: #1967D2;\n",
              "      height: 32px;\n",
              "      padding: 0 0 0 0;\n",
              "      width: 32px;\n",
              "    }\n",
              "\n",
              "    .colab-df-convert:hover {\n",
              "      background-color: #E2EBFA;\n",
              "      box-shadow: 0px 1px 2px rgba(60, 64, 67, 0.3), 0px 1px 3px 1px rgba(60, 64, 67, 0.15);\n",
              "      fill: #174EA6;\n",
              "    }\n",
              "\n",
              "    [theme=dark] .colab-df-convert {\n",
              "      background-color: #3B4455;\n",
              "      fill: #D2E3FC;\n",
              "    }\n",
              "\n",
              "    [theme=dark] .colab-df-convert:hover {\n",
              "      background-color: #434B5C;\n",
              "      box-shadow: 0px 1px 3px 1px rgba(0, 0, 0, 0.15);\n",
              "      filter: drop-shadow(0px 1px 2px rgba(0, 0, 0, 0.3));\n",
              "      fill: #FFFFFF;\n",
              "    }\n",
              "  </style>\n",
              "\n",
              "      <script>\n",
              "        const buttonEl =\n",
              "          document.querySelector('#df-28e49502-5b7a-41c3-873d-2ca38ec1154a button.colab-df-convert');\n",
              "        buttonEl.style.display =\n",
              "          google.colab.kernel.accessAllowed ? 'block' : 'none';\n",
              "\n",
              "        async function convertToInteractive(key) {\n",
              "          const element = document.querySelector('#df-28e49502-5b7a-41c3-873d-2ca38ec1154a');\n",
              "          const dataTable =\n",
              "            await google.colab.kernel.invokeFunction('convertToInteractive',\n",
              "                                                     [key], {});\n",
              "          if (!dataTable) return;\n",
              "\n",
              "          const docLinkHtml = 'Like what you see? Visit the ' +\n",
              "            '<a target=\"_blank\" href=https://colab.research.google.com/notebooks/data_table.ipynb>data table notebook</a>'\n",
              "            + ' to learn more about interactive tables.';\n",
              "          element.innerHTML = '';\n",
              "          dataTable['output_type'] = 'display_data';\n",
              "          await google.colab.output.renderOutput(dataTable, element);\n",
              "          const docLink = document.createElement('div');\n",
              "          docLink.innerHTML = docLinkHtml;\n",
              "          element.appendChild(docLink);\n",
              "        }\n",
              "      </script>\n",
              "    </div>\n",
              "  </div>\n",
              "  "
            ]
          },
          "metadata": {},
          "execution_count": 108
        }
      ]
    },
    {
      "cell_type": "code",
      "source": [
        "df['stabf'].value_counts()"
      ],
      "metadata": {
        "colab": {
          "base_uri": "https://localhost:8080/"
        },
        "id": "G4z7La_9YH77",
        "outputId": "92c86950-3de0-44e4-b0b1-71085d392feb"
      },
      "execution_count": 109,
      "outputs": [
        {
          "output_type": "execute_result",
          "data": {
            "text/plain": [
              "unstable    6380\n",
              "stable      3620\n",
              "Name: stabf, dtype: int64"
            ]
          },
          "metadata": {},
          "execution_count": 109
        }
      ]
    },
    {
      "cell_type": "code",
      "source": [
        "x=df.drop(['stabf'], axis=1)"
      ],
      "metadata": {
        "id": "2OZwkbu-Yno5"
      },
      "execution_count": 110,
      "outputs": []
    },
    {
      "cell_type": "code",
      "source": [
        "x"
      ],
      "metadata": {
        "id": "rpM6jwq3aArc",
        "outputId": "c8cfb38a-5949-4039-f04b-44d01beed66a",
        "colab": {
          "base_uri": "https://localhost:8080/",
          "height": 424
        }
      },
      "execution_count": 111,
      "outputs": [
        {
          "output_type": "execute_result",
          "data": {
            "text/plain": [
              "      tau1  tau2  tau3  tau4   p1    p2    p3    p4   g1   g2   g3   g4\n",
              "0     2.96  3.08  8.38  9.78 3.76 -0.78 -1.26 -1.72 0.65 0.86 0.89 0.96\n",
              "1     9.30  4.90  3.05  1.37 5.07 -1.94 -1.87 -1.26 0.41 0.86 0.56 0.78\n",
              "2     8.97  8.85  3.05  1.21 3.41 -1.21 -1.28 -0.92 0.16 0.77 0.84 0.11\n",
              "3     0.72  7.67  4.49  2.34 3.96 -1.03 -1.94 -1.00 0.45 0.98 0.93 0.36\n",
              "4     3.13  7.61  4.94  9.86 3.53 -1.13 -1.85 -0.55 0.80 0.46 0.66 0.82\n",
              "...    ...   ...   ...   ...  ...   ...   ...   ...  ...  ...  ...  ...\n",
              "9995  2.93  9.49  2.38  6.19 3.34 -0.66 -1.45 -1.24 0.60 0.78 0.81 0.61\n",
              "9996  3.39  1.27  2.95  6.89 4.35 -1.66 -0.95 -1.73 0.50 0.57 0.29 0.37\n",
              "9997  2.36  2.84  8.78  1.01 4.30 -1.38 -0.94 -1.98 0.49 0.99 0.15 0.15\n",
              "9998  9.63  3.99  2.76  7.82 2.51 -0.97 -0.65 -0.90 0.37 0.59 0.89 0.82\n",
              "9999  6.53  6.78  4.35  8.67 3.49 -1.39 -1.53 -0.57 0.07 0.51 0.38 0.94\n",
              "\n",
              "[10000 rows x 12 columns]"
            ],
            "text/html": [
              "\n",
              "  <div id=\"df-f66234ca-ad8b-4155-abca-3c3f9b5ae6f4\">\n",
              "    <div class=\"colab-df-container\">\n",
              "      <div>\n",
              "<style scoped>\n",
              "    .dataframe tbody tr th:only-of-type {\n",
              "        vertical-align: middle;\n",
              "    }\n",
              "\n",
              "    .dataframe tbody tr th {\n",
              "        vertical-align: top;\n",
              "    }\n",
              "\n",
              "    .dataframe thead th {\n",
              "        text-align: right;\n",
              "    }\n",
              "</style>\n",
              "<table border=\"1\" class=\"dataframe\">\n",
              "  <thead>\n",
              "    <tr style=\"text-align: right;\">\n",
              "      <th></th>\n",
              "      <th>tau1</th>\n",
              "      <th>tau2</th>\n",
              "      <th>tau3</th>\n",
              "      <th>tau4</th>\n",
              "      <th>p1</th>\n",
              "      <th>p2</th>\n",
              "      <th>p3</th>\n",
              "      <th>p4</th>\n",
              "      <th>g1</th>\n",
              "      <th>g2</th>\n",
              "      <th>g3</th>\n",
              "      <th>g4</th>\n",
              "    </tr>\n",
              "  </thead>\n",
              "  <tbody>\n",
              "    <tr>\n",
              "      <th>0</th>\n",
              "      <td>2.96</td>\n",
              "      <td>3.08</td>\n",
              "      <td>8.38</td>\n",
              "      <td>9.78</td>\n",
              "      <td>3.76</td>\n",
              "      <td>-0.78</td>\n",
              "      <td>-1.26</td>\n",
              "      <td>-1.72</td>\n",
              "      <td>0.65</td>\n",
              "      <td>0.86</td>\n",
              "      <td>0.89</td>\n",
              "      <td>0.96</td>\n",
              "    </tr>\n",
              "    <tr>\n",
              "      <th>1</th>\n",
              "      <td>9.30</td>\n",
              "      <td>4.90</td>\n",
              "      <td>3.05</td>\n",
              "      <td>1.37</td>\n",
              "      <td>5.07</td>\n",
              "      <td>-1.94</td>\n",
              "      <td>-1.87</td>\n",
              "      <td>-1.26</td>\n",
              "      <td>0.41</td>\n",
              "      <td>0.86</td>\n",
              "      <td>0.56</td>\n",
              "      <td>0.78</td>\n",
              "    </tr>\n",
              "    <tr>\n",
              "      <th>2</th>\n",
              "      <td>8.97</td>\n",
              "      <td>8.85</td>\n",
              "      <td>3.05</td>\n",
              "      <td>1.21</td>\n",
              "      <td>3.41</td>\n",
              "      <td>-1.21</td>\n",
              "      <td>-1.28</td>\n",
              "      <td>-0.92</td>\n",
              "      <td>0.16</td>\n",
              "      <td>0.77</td>\n",
              "      <td>0.84</td>\n",
              "      <td>0.11</td>\n",
              "    </tr>\n",
              "    <tr>\n",
              "      <th>3</th>\n",
              "      <td>0.72</td>\n",
              "      <td>7.67</td>\n",
              "      <td>4.49</td>\n",
              "      <td>2.34</td>\n",
              "      <td>3.96</td>\n",
              "      <td>-1.03</td>\n",
              "      <td>-1.94</td>\n",
              "      <td>-1.00</td>\n",
              "      <td>0.45</td>\n",
              "      <td>0.98</td>\n",
              "      <td>0.93</td>\n",
              "      <td>0.36</td>\n",
              "    </tr>\n",
              "    <tr>\n",
              "      <th>4</th>\n",
              "      <td>3.13</td>\n",
              "      <td>7.61</td>\n",
              "      <td>4.94</td>\n",
              "      <td>9.86</td>\n",
              "      <td>3.53</td>\n",
              "      <td>-1.13</td>\n",
              "      <td>-1.85</td>\n",
              "      <td>-0.55</td>\n",
              "      <td>0.80</td>\n",
              "      <td>0.46</td>\n",
              "      <td>0.66</td>\n",
              "      <td>0.82</td>\n",
              "    </tr>\n",
              "    <tr>\n",
              "      <th>...</th>\n",
              "      <td>...</td>\n",
              "      <td>...</td>\n",
              "      <td>...</td>\n",
              "      <td>...</td>\n",
              "      <td>...</td>\n",
              "      <td>...</td>\n",
              "      <td>...</td>\n",
              "      <td>...</td>\n",
              "      <td>...</td>\n",
              "      <td>...</td>\n",
              "      <td>...</td>\n",
              "      <td>...</td>\n",
              "    </tr>\n",
              "    <tr>\n",
              "      <th>9995</th>\n",
              "      <td>2.93</td>\n",
              "      <td>9.49</td>\n",
              "      <td>2.38</td>\n",
              "      <td>6.19</td>\n",
              "      <td>3.34</td>\n",
              "      <td>-0.66</td>\n",
              "      <td>-1.45</td>\n",
              "      <td>-1.24</td>\n",
              "      <td>0.60</td>\n",
              "      <td>0.78</td>\n",
              "      <td>0.81</td>\n",
              "      <td>0.61</td>\n",
              "    </tr>\n",
              "    <tr>\n",
              "      <th>9996</th>\n",
              "      <td>3.39</td>\n",
              "      <td>1.27</td>\n",
              "      <td>2.95</td>\n",
              "      <td>6.89</td>\n",
              "      <td>4.35</td>\n",
              "      <td>-1.66</td>\n",
              "      <td>-0.95</td>\n",
              "      <td>-1.73</td>\n",
              "      <td>0.50</td>\n",
              "      <td>0.57</td>\n",
              "      <td>0.29</td>\n",
              "      <td>0.37</td>\n",
              "    </tr>\n",
              "    <tr>\n",
              "      <th>9997</th>\n",
              "      <td>2.36</td>\n",
              "      <td>2.84</td>\n",
              "      <td>8.78</td>\n",
              "      <td>1.01</td>\n",
              "      <td>4.30</td>\n",
              "      <td>-1.38</td>\n",
              "      <td>-0.94</td>\n",
              "      <td>-1.98</td>\n",
              "      <td>0.49</td>\n",
              "      <td>0.99</td>\n",
              "      <td>0.15</td>\n",
              "      <td>0.15</td>\n",
              "    </tr>\n",
              "    <tr>\n",
              "      <th>9998</th>\n",
              "      <td>9.63</td>\n",
              "      <td>3.99</td>\n",
              "      <td>2.76</td>\n",
              "      <td>7.82</td>\n",
              "      <td>2.51</td>\n",
              "      <td>-0.97</td>\n",
              "      <td>-0.65</td>\n",
              "      <td>-0.90</td>\n",
              "      <td>0.37</td>\n",
              "      <td>0.59</td>\n",
              "      <td>0.89</td>\n",
              "      <td>0.82</td>\n",
              "    </tr>\n",
              "    <tr>\n",
              "      <th>9999</th>\n",
              "      <td>6.53</td>\n",
              "      <td>6.78</td>\n",
              "      <td>4.35</td>\n",
              "      <td>8.67</td>\n",
              "      <td>3.49</td>\n",
              "      <td>-1.39</td>\n",
              "      <td>-1.53</td>\n",
              "      <td>-0.57</td>\n",
              "      <td>0.07</td>\n",
              "      <td>0.51</td>\n",
              "      <td>0.38</td>\n",
              "      <td>0.94</td>\n",
              "    </tr>\n",
              "  </tbody>\n",
              "</table>\n",
              "<p>10000 rows × 12 columns</p>\n",
              "</div>\n",
              "      <button class=\"colab-df-convert\" onclick=\"convertToInteractive('df-f66234ca-ad8b-4155-abca-3c3f9b5ae6f4')\"\n",
              "              title=\"Convert this dataframe to an interactive table.\"\n",
              "              style=\"display:none;\">\n",
              "        \n",
              "  <svg xmlns=\"http://www.w3.org/2000/svg\" height=\"24px\"viewBox=\"0 0 24 24\"\n",
              "       width=\"24px\">\n",
              "    <path d=\"M0 0h24v24H0V0z\" fill=\"none\"/>\n",
              "    <path d=\"M18.56 5.44l.94 2.06.94-2.06 2.06-.94-2.06-.94-.94-2.06-.94 2.06-2.06.94zm-11 1L8.5 8.5l.94-2.06 2.06-.94-2.06-.94L8.5 2.5l-.94 2.06-2.06.94zm10 10l.94 2.06.94-2.06 2.06-.94-2.06-.94-.94-2.06-.94 2.06-2.06.94z\"/><path d=\"M17.41 7.96l-1.37-1.37c-.4-.4-.92-.59-1.43-.59-.52 0-1.04.2-1.43.59L10.3 9.45l-7.72 7.72c-.78.78-.78 2.05 0 2.83L4 21.41c.39.39.9.59 1.41.59.51 0 1.02-.2 1.41-.59l7.78-7.78 2.81-2.81c.8-.78.8-2.07 0-2.86zM5.41 20L4 18.59l7.72-7.72 1.47 1.35L5.41 20z\"/>\n",
              "  </svg>\n",
              "      </button>\n",
              "      \n",
              "  <style>\n",
              "    .colab-df-container {\n",
              "      display:flex;\n",
              "      flex-wrap:wrap;\n",
              "      gap: 12px;\n",
              "    }\n",
              "\n",
              "    .colab-df-convert {\n",
              "      background-color: #E8F0FE;\n",
              "      border: none;\n",
              "      border-radius: 50%;\n",
              "      cursor: pointer;\n",
              "      display: none;\n",
              "      fill: #1967D2;\n",
              "      height: 32px;\n",
              "      padding: 0 0 0 0;\n",
              "      width: 32px;\n",
              "    }\n",
              "\n",
              "    .colab-df-convert:hover {\n",
              "      background-color: #E2EBFA;\n",
              "      box-shadow: 0px 1px 2px rgba(60, 64, 67, 0.3), 0px 1px 3px 1px rgba(60, 64, 67, 0.15);\n",
              "      fill: #174EA6;\n",
              "    }\n",
              "\n",
              "    [theme=dark] .colab-df-convert {\n",
              "      background-color: #3B4455;\n",
              "      fill: #D2E3FC;\n",
              "    }\n",
              "\n",
              "    [theme=dark] .colab-df-convert:hover {\n",
              "      background-color: #434B5C;\n",
              "      box-shadow: 0px 1px 3px 1px rgba(0, 0, 0, 0.15);\n",
              "      filter: drop-shadow(0px 1px 2px rgba(0, 0, 0, 0.3));\n",
              "      fill: #FFFFFF;\n",
              "    }\n",
              "  </style>\n",
              "\n",
              "      <script>\n",
              "        const buttonEl =\n",
              "          document.querySelector('#df-f66234ca-ad8b-4155-abca-3c3f9b5ae6f4 button.colab-df-convert');\n",
              "        buttonEl.style.display =\n",
              "          google.colab.kernel.accessAllowed ? 'block' : 'none';\n",
              "\n",
              "        async function convertToInteractive(key) {\n",
              "          const element = document.querySelector('#df-f66234ca-ad8b-4155-abca-3c3f9b5ae6f4');\n",
              "          const dataTable =\n",
              "            await google.colab.kernel.invokeFunction('convertToInteractive',\n",
              "                                                     [key], {});\n",
              "          if (!dataTable) return;\n",
              "\n",
              "          const docLinkHtml = 'Like what you see? Visit the ' +\n",
              "            '<a target=\"_blank\" href=https://colab.research.google.com/notebooks/data_table.ipynb>data table notebook</a>'\n",
              "            + ' to learn more about interactive tables.';\n",
              "          element.innerHTML = '';\n",
              "          dataTable['output_type'] = 'display_data';\n",
              "          await google.colab.output.renderOutput(dataTable, element);\n",
              "          const docLink = document.createElement('div');\n",
              "          docLink.innerHTML = docLinkHtml;\n",
              "          element.appendChild(docLink);\n",
              "        }\n",
              "      </script>\n",
              "    </div>\n",
              "  </div>\n",
              "  "
            ]
          },
          "metadata": {},
          "execution_count": 111
        }
      ]
    },
    {
      "cell_type": "code",
      "source": [
        "y = df['stabf']"
      ],
      "metadata": {
        "id": "EEy7B1F_aE-h"
      },
      "execution_count": 112,
      "outputs": []
    },
    {
      "cell_type": "code",
      "source": [
        "y"
      ],
      "metadata": {
        "id": "CrsfIGKdaOFf",
        "outputId": "f171ddf4-809f-433b-b4b6-77262038f98f",
        "colab": {
          "base_uri": "https://localhost:8080/"
        }
      },
      "execution_count": 113,
      "outputs": [
        {
          "output_type": "execute_result",
          "data": {
            "text/plain": [
              "0       unstable\n",
              "1         stable\n",
              "2       unstable\n",
              "3       unstable\n",
              "4       unstable\n",
              "          ...   \n",
              "9995    unstable\n",
              "9996      stable\n",
              "9997      stable\n",
              "9998    unstable\n",
              "9999    unstable\n",
              "Name: stabf, Length: 10000, dtype: object"
            ]
          },
          "metadata": {},
          "execution_count": 113
        }
      ]
    },
    {
      "cell_type": "code",
      "source": [
        "x_train, x_test, y_train, y_test = train_test_split(x,y, test_size=0.2, random_state=1)"
      ],
      "metadata": {
        "id": "tmIBU3UxaPnu"
      },
      "execution_count": 114,
      "outputs": []
    },
    {
      "cell_type": "code",
      "source": [
        "!pip install lazypredict"
      ],
      "metadata": {
        "id": "GSQ2w3gEa8Sc",
        "outputId": "a274fed0-41e6-4708-a047-7c46541257f1",
        "colab": {
          "base_uri": "https://localhost:8080/"
        }
      },
      "execution_count": 115,
      "outputs": [
        {
          "output_type": "stream",
          "name": "stdout",
          "text": [
            "Looking in indexes: https://pypi.org/simple, https://us-python.pkg.dev/colab-wheels/public/simple/\n",
            "Requirement already satisfied: lazypredict in /usr/local/lib/python3.8/dist-packages (0.2.12)\n",
            "Requirement already satisfied: joblib in /usr/local/lib/python3.8/dist-packages (from lazypredict) (1.2.0)\n",
            "Requirement already satisfied: click in /usr/local/lib/python3.8/dist-packages (from lazypredict) (7.1.2)\n",
            "Requirement already satisfied: scikit-learn in /usr/local/lib/python3.8/dist-packages (from lazypredict) (1.0.2)\n",
            "Requirement already satisfied: pandas in /usr/local/lib/python3.8/dist-packages (from lazypredict) (1.3.5)\n",
            "Requirement already satisfied: xgboost in /usr/local/lib/python3.8/dist-packages (from lazypredict) (0.90)\n",
            "Requirement already satisfied: tqdm in /usr/local/lib/python3.8/dist-packages (from lazypredict) (4.64.1)\n",
            "Requirement already satisfied: lightgbm in /usr/local/lib/python3.8/dist-packages (from lazypredict) (2.2.3)\n",
            "Requirement already satisfied: numpy in /usr/local/lib/python3.8/dist-packages (from lightgbm->lazypredict) (1.21.6)\n",
            "Requirement already satisfied: scipy in /usr/local/lib/python3.8/dist-packages (from lightgbm->lazypredict) (1.7.3)\n",
            "Requirement already satisfied: pytz>=2017.3 in /usr/local/lib/python3.8/dist-packages (from pandas->lazypredict) (2022.6)\n",
            "Requirement already satisfied: python-dateutil>=2.7.3 in /usr/local/lib/python3.8/dist-packages (from pandas->lazypredict) (2.8.2)\n",
            "Requirement already satisfied: six>=1.5 in /usr/local/lib/python3.8/dist-packages (from python-dateutil>=2.7.3->pandas->lazypredict) (1.15.0)\n",
            "Requirement already satisfied: threadpoolctl>=2.0.0 in /usr/local/lib/python3.8/dist-packages (from scikit-learn->lazypredict) (3.1.0)\n"
          ]
        }
      ]
    },
    {
      "cell_type": "code",
      "source": [
        "from lazypredict.Supervised import LazyClassifier\n",
        "from sklearn.model_selection import train_test_split\n"
      ],
      "metadata": {
        "id": "r_oeP3n-wGcF"
      },
      "execution_count": 116,
      "outputs": []
    },
    {
      "cell_type": "code",
      "source": [
        "df.corr"
      ],
      "metadata": {
        "id": "EZbRXWwrwLP1",
        "outputId": "8fe3350a-7271-43c4-c3cf-f33362b7483c",
        "colab": {
          "base_uri": "https://localhost:8080/"
        }
      },
      "execution_count": 117,
      "outputs": [
        {
          "output_type": "execute_result",
          "data": {
            "text/plain": [
              "<bound method DataFrame.corr of       tau1  tau2  tau3  tau4   p1    p2    p3    p4   g1   g2   g3   g4  \\\n",
              "0     2.96  3.08  8.38  9.78 3.76 -0.78 -1.26 -1.72 0.65 0.86 0.89 0.96   \n",
              "1     9.30  4.90  3.05  1.37 5.07 -1.94 -1.87 -1.26 0.41 0.86 0.56 0.78   \n",
              "2     8.97  8.85  3.05  1.21 3.41 -1.21 -1.28 -0.92 0.16 0.77 0.84 0.11   \n",
              "3     0.72  7.67  4.49  2.34 3.96 -1.03 -1.94 -1.00 0.45 0.98 0.93 0.36   \n",
              "4     3.13  7.61  4.94  9.86 3.53 -1.13 -1.85 -0.55 0.80 0.46 0.66 0.82   \n",
              "...    ...   ...   ...   ...  ...   ...   ...   ...  ...  ...  ...  ...   \n",
              "9995  2.93  9.49  2.38  6.19 3.34 -0.66 -1.45 -1.24 0.60 0.78 0.81 0.61   \n",
              "9996  3.39  1.27  2.95  6.89 4.35 -1.66 -0.95 -1.73 0.50 0.57 0.29 0.37   \n",
              "9997  2.36  2.84  8.78  1.01 4.30 -1.38 -0.94 -1.98 0.49 0.99 0.15 0.15   \n",
              "9998  9.63  3.99  2.76  7.82 2.51 -0.97 -0.65 -0.90 0.37 0.59 0.89 0.82   \n",
              "9999  6.53  6.78  4.35  8.67 3.49 -1.39 -1.53 -0.57 0.07 0.51 0.38 0.94   \n",
              "\n",
              "         stabf  \n",
              "0     unstable  \n",
              "1       stable  \n",
              "2     unstable  \n",
              "3     unstable  \n",
              "4     unstable  \n",
              "...        ...  \n",
              "9995  unstable  \n",
              "9996    stable  \n",
              "9997    stable  \n",
              "9998  unstable  \n",
              "9999  unstable  \n",
              "\n",
              "[10000 rows x 13 columns]>"
            ]
          },
          "metadata": {},
          "execution_count": 117
        }
      ]
    },
    {
      "cell_type": "code",
      "source": [
        "sns.heatmap(df.corr(),cmap=\"YlGnBu\")"
      ],
      "metadata": {
        "id": "eSyTYO0swR_Y",
        "outputId": "36917e80-3731-464a-a1c0-37e46d46ff5b",
        "colab": {
          "base_uri": "https://localhost:8080/",
          "height": 299
        }
      },
      "execution_count": 118,
      "outputs": [
        {
          "output_type": "execute_result",
          "data": {
            "text/plain": [
              "<matplotlib.axes._subplots.AxesSubplot at 0x7f3a922793d0>"
            ]
          },
          "metadata": {},
          "execution_count": 118
        },
        {
          "output_type": "display_data",
          "data": {
            "text/plain": [
              "<Figure size 432x288 with 2 Axes>"
            ],
            "image/png": "[encoded data removed]"
          },
          "metadata": {
            "needs_background": "light"
          }
        }
      ]
    },
    {
      "cell_type": "code",
      "source": [
        "from sklearn.preprocessing import StandardScaler\n",
        "\n",
        "scaler = StandardScaler()\n",
        "scaler.fit(x_train)\n",
        "\n",
        "x_train_scaled = scaler.transform(x_train)\n",
        "x_test_scaled = scaler.transform(x_test)"
      ],
      "metadata": {
        "id": "sCeFvDMiwrDG"
      },
      "execution_count": 119,
      "outputs": []
    },
    {
      "cell_type": "code",
      "source": [
        "x_train_scaled = pd.DataFrame(x_train_scaled, columns = x_train.columns)\n",
        "x_test_scaled = pd.DataFrame(x_test_scaled, columns = x_test.columns)"
      ],
      "metadata": {
        "id": "orOKenTtx27p"
      },
      "execution_count": 120,
      "outputs": []
    },
    {
      "cell_type": "code",
      "source": [
        "\n",
        "\n",
        "rf = RandomForestClassifier(random_state = 1)\n",
        "\n",
        "#fit on train set\n",
        "rf.fit(x_train_scaled, y_train)"
      ],
      "metadata": {
        "id": "iNPbNezmx6gG",
        "outputId": "7879cc3f-72c7-471a-b246-6308eef3fe5f",
        "colab": {
          "base_uri": "https://localhost:8080/"
        }
      },
      "execution_count": 121,
      "outputs": [
        {
          "output_type": "execute_result",
          "data": {
            "text/plain": [
              "RandomForestClassifier(random_state=1)"
            ]
          },
          "metadata": {},
          "execution_count": 121
        }
      ]
    },
    {
      "cell_type": "code",
      "source": [
        "rf_pred = rf.predict(x_test_scaled)"
      ],
      "metadata": {
        "id": "Zwz4594bx9tc"
      },
      "execution_count": 122,
      "outputs": []
    },
    {
      "cell_type": "code",
      "source": [
        "from sklearn.metrics import accuracy_score\n",
        "\n",
        "accuracy = accuracy_score(y_test, rf_pred)\n",
        "print('Accuracy: {}'.format(round(accuracy*100), 4))\n",
        "\n",
        "from sklearn.metrics import recall_score, precision_score, f1_score, confusion_matrix, classification_report\n",
        "\n",
        "#precision\n",
        "precision = precision_score(y_test, rf_pred, pos_label='stable')\n",
        "print('Precision: {}'.format(round(precision*100), 2))  \n",
        "\n",
        "#recall\n",
        "recall = recall_score(y_test, rf_pred, pos_label='stable')\n",
        "print('Recall: {}'.format(round(recall*100), 2))\n",
        "\n",
        "#F1 score\n",
        "f1 = f1_score(y_test, rf_pred, pos_label='stable')\n",
        "print('F1: {}'.format(round(f1*100), 2))\n",
        "\n",
        "#classification report\n",
        "print('Classification Report:\\n', classification_report(y_test,rf_pred, digits =4))\n",
        "\n",
        "#confusion matrix\n",
        "rf_cnf_mat = confusion_matrix(y_test, rf_pred, labels=['unstable', 'stable'])\n",
        "print('Confusion Matrix:\\n', rf_cnf_mat)"
      ],
      "metadata": {
        "id": "VbglVk-3yFuf",
        "outputId": "798cac87-0be8-42cf-bdb1-68ceeedb91ec",
        "colab": {
          "base_uri": "https://localhost:8080/"
        }
      },
      "execution_count": 123,
      "outputs": [
        {
          "output_type": "stream",
          "name": "stdout",
          "text": [
            "Accuracy: 93\n",
            "Precision: 92\n",
            "Recall: 88\n",
            "F1: 90\n",
            "Classification Report:\n",
            "               precision    recall  f1-score   support\n",
            "\n",
            "      stable     0.9191    0.8778    0.8980       712\n",
            "    unstable     0.9341    0.9573    0.9456      1288\n",
            "\n",
            "    accuracy                         0.9290      2000\n",
            "   macro avg     0.9266    0.9176    0.9218      2000\n",
            "weighted avg     0.9288    0.9290    0.9286      2000\n",
            "\n",
            "Confusion Matrix:\n",
            " [[1233   55]\n",
            " [  87  625]]\n"
          ]
        }
      ]
    },
    {
      "cell_type": "code",
      "source": [
        "print(\"Training set score: {:.3f}\".format(rf.score(x_train_scaled, y_train)))\n",
        "print(\"Test set score: {:.3f}\".format(rf.score(x_test_scaled, y_test)))\n"
      ],
      "metadata": {
        "id": "Sdi1uvExyMRN",
        "outputId": "bffe8f95-ebd8-4469-caba-5a3c574cdc70",
        "colab": {
          "base_uri": "https://localhost:8080/"
        }
      },
      "execution_count": 124,
      "outputs": [
        {
          "output_type": "stream",
          "name": "stdout",
          "text": [
            "Training set score: 1.000\n",
            "Test set score: 0.929\n"
          ]
        }
      ]
    },
    {
      "cell_type": "code",
      "source": [
        "\n",
        "\n",
        "etc = ExtraTreesClassifier(random_state = 1)\n",
        "\n",
        "etc.fit(x_train_scaled, y_train)"
      ],
      "metadata": {
        "id": "FYJYEmidyNdt",
        "outputId": "d8cc940c-1b21-4898-b35e-92bd6c2adffe",
        "colab": {
          "base_uri": "https://localhost:8080/"
        }
      },
      "execution_count": 125,
      "outputs": [
        {
          "output_type": "execute_result",
          "data": {
            "text/plain": [
              "ExtraTreesClassifier(random_state=1)"
            ]
          },
          "metadata": {},
          "execution_count": 125
        }
      ]
    },
    {
      "cell_type": "code",
      "source": [
        "etc_pred = etc.predict(x_test_scaled)"
      ],
      "metadata": {
        "id": "79YmKtCxyPor"
      },
      "execution_count": 126,
      "outputs": []
    },
    {
      "cell_type": "code",
      "source": [
        "etc_accuracy = accuracy_score(y_test, etc_pred)\n",
        "print('Accuracy: {}'.format(round(etc_accuracy*100), 2))\n",
        "\n",
        "\n"
      ],
      "metadata": {
        "id": "6SQ8j-kvyaS6",
        "outputId": "f940d9a4-6508-4b88-ff3d-12602ce3c108",
        "colab": {
          "base_uri": "https://localhost:8080/"
        }
      },
      "execution_count": 127,
      "outputs": [
        {
          "output_type": "stream",
          "name": "stdout",
          "text": [
            "Accuracy: 93\n"
          ]
        }
      ]
    },
    {
      "cell_type": "code",
      "source": [
        "etc_precision = precision_score(y_test, etc_pred, pos_label='stable')\n",
        "print('Precision: {}'.format(round(etc_precision*100), 2))  \n",
        "\n"
      ],
      "metadata": {
        "id": "kGHpJuIfygRt",
        "outputId": "06640e89-8b5f-4c2f-b52f-6a0f0ae0ba34",
        "colab": {
          "base_uri": "https://localhost:8080/"
        }
      },
      "execution_count": 128,
      "outputs": [
        {
          "output_type": "stream",
          "name": "stdout",
          "text": [
            "Precision: 94\n"
          ]
        }
      ]
    },
    {
      "cell_type": "code",
      "source": [
        "\n",
        "\n",
        "etc_recall = recall_score(y_test, etc_pred, pos_label='stable')\n",
        "print('Recall: {}'.format(round(etc_recall*100), 2))\n",
        "\n"
      ],
      "metadata": {
        "id": "6dnnZvcYyjDX",
        "outputId": "a88bacff-dec7-4cc8-c8ab-e0e6de4dc344",
        "colab": {
          "base_uri": "https://localhost:8080/"
        }
      },
      "execution_count": 129,
      "outputs": [
        {
          "output_type": "stream",
          "name": "stdout",
          "text": [
            "Recall: 85\n"
          ]
        }
      ]
    },
    {
      "cell_type": "code",
      "source": [
        "\n",
        "etc_f1 = f1_score(y_test, etc_pred, pos_label='stable')\n",
        "print('F1: {}'.format(round(etc_f1*100), 2))\n"
      ],
      "metadata": {
        "id": "kpZOOb5yylYB",
        "outputId": "3465a20d-4ed2-456a-a72d-20b3bbc5f642",
        "colab": {
          "base_uri": "https://localhost:8080/"
        }
      },
      "execution_count": 130,
      "outputs": [
        {
          "output_type": "stream",
          "name": "stdout",
          "text": [
            "F1: 89\n"
          ]
        }
      ]
    },
    {
      "cell_type": "code",
      "source": [
        "\n",
        "\n",
        "print('Classification Report:\\n', classification_report(y_test,etc_pred, digits =4))\n",
        "\n"
      ],
      "metadata": {
        "id": "KgcAV6t_ynQS",
        "outputId": "d5e3d587-db2c-42b2-c422-64c9584e8c1e",
        "colab": {
          "base_uri": "https://localhost:8080/"
        }
      },
      "execution_count": 131,
      "outputs": [
        {
          "output_type": "stream",
          "name": "stdout",
          "text": [
            "Classification Report:\n",
            "               precision    recall  f1-score   support\n",
            "\n",
            "      stable     0.9410    0.8511    0.8938       712\n",
            "    unstable     0.9218    0.9705    0.9455      1288\n",
            "\n",
            "    accuracy                         0.9280      2000\n",
            "   macro avg     0.9314    0.9108    0.9197      2000\n",
            "weighted avg     0.9287    0.9280    0.9271      2000\n",
            "\n"
          ]
        }
      ]
    },
    {
      "cell_type": "code",
      "source": [
        "etc_cnf_mat = confusion_matrix(y_test, etc_pred)\n",
        "print('Confusion Matrix:\\n', etc_cnf_mat)"
      ],
      "metadata": {
        "id": "kjyjw26ryo32",
        "outputId": "d932002b-be52-40f0-c434-042827465223",
        "colab": {
          "base_uri": "https://localhost:8080/"
        }
      },
      "execution_count": 132,
      "outputs": [
        {
          "output_type": "stream",
          "name": "stdout",
          "text": [
            "Confusion Matrix:\n",
            " [[ 606  106]\n",
            " [  38 1250]]\n"
          ]
        }
      ]
    },
    {
      "cell_type": "code",
      "source": [
        "print(\"Training set score: {:.3f}\".format(etc.score(x_train_scaled, y_train)))\n",
        "print(\"Test set score: {:.3f}\".format(etc.score(x_test_scaled, y_test)))"
      ],
      "metadata": {
        "id": "nP8IsPjkyqCi",
        "outputId": "a8ac5cd4-068b-4717-a57a-ce8247ee1817",
        "colab": {
          "base_uri": "https://localhost:8080/"
        }
      },
      "execution_count": 133,
      "outputs": [
        {
          "output_type": "stream",
          "name": "stdout",
          "text": [
            "Training set score: 1.000\n",
            "Test set score: 0.928\n"
          ]
        }
      ]
    },
    {
      "cell_type": "code",
      "source": [
        "\n",
        "\n",
        "\n",
        "xbc= XGBClassifier(random_state = 1)\n",
        "\n",
        "#fit on train set\n",
        "xbc.fit(x_train_scaled, y_train)"
      ],
      "metadata": {
        "id": "jGpDYaK4yt6p",
        "outputId": "2e6bd539-1735-4002-e8c6-c3aa55688c14",
        "colab": {
          "base_uri": "https://localhost:8080/"
        }
      },
      "execution_count": 134,
      "outputs": [
        {
          "output_type": "execute_result",
          "data": {
            "text/plain": [
              "XGBClassifier(random_state=1)"
            ]
          },
          "metadata": {},
          "execution_count": 134
        }
      ]
    },
    {
      "cell_type": "code",
      "source": [
        "xbc_pred = xbc.predict(x_test_scaled)"
      ],
      "metadata": {
        "id": "NLyl_egeyvIV"
      },
      "execution_count": 135,
      "outputs": []
    },
    {
      "cell_type": "code",
      "source": [
        "xbc_accuracy = accuracy_score(y_test, xbc_pred)\n",
        "print('Accuracy: {}'.format(round(xbc_accuracy*100), 2))\n",
        "\n"
      ],
      "metadata": {
        "id": "bUgyBjs2y3HB",
        "outputId": "5213e685-49c6-46a6-f0d9-dabab81ee1b5",
        "colab": {
          "base_uri": "https://localhost:8080/"
        }
      },
      "execution_count": 136,
      "outputs": [
        {
          "output_type": "stream",
          "name": "stdout",
          "text": [
            "Accuracy: 92\n"
          ]
        }
      ]
    },
    {
      "cell_type": "code",
      "source": [
        "\n",
        "\n",
        "xbc_precision = precision_score(y_test, xbc_pred, pos_label='stable')\n",
        "print('Precision: {}'.format(round(xbc_precision*100), 2))  \n"
      ],
      "metadata": {
        "id": "umqDYBEny9Yf",
        "outputId": "5cbd4b09-989a-403c-8c18-c2d548c251af",
        "colab": {
          "base_uri": "https://localhost:8080/"
        }
      },
      "execution_count": 137,
      "outputs": [
        {
          "output_type": "stream",
          "name": "stdout",
          "text": [
            "Precision: 92\n"
          ]
        }
      ]
    },
    {
      "cell_type": "code",
      "source": [
        "\n",
        "xbc_recall = recall_score(y_test, xbc_pred, pos_label='stable')\n",
        "print('Recall: {}'.format(round(xbc_recall*100), 2))\n",
        "\n",
        "\n",
        "xbc_f1 = f1_score(y_test, xbc_pred, pos_label='stable')\n",
        "print('F1: {}'.format(round(xbc_f1*100), 2))\n",
        "\n",
        "print('Classification Report:\\n', classification_report(y_test,xbc_pred, digits =4))\n",
        "\n"
      ],
      "metadata": {
        "id": "D3pgaalUzAeS",
        "outputId": "8440507e-3333-43e8-b798-11c7b02166fa",
        "colab": {
          "base_uri": "https://localhost:8080/"
        }
      },
      "execution_count": 138,
      "outputs": [
        {
          "output_type": "stream",
          "name": "stdout",
          "text": [
            "Recall: 85\n",
            "F1: 88\n",
            "Classification Report:\n",
            "               precision    recall  f1-score   support\n",
            "\n",
            "      stable     0.9206    0.8469    0.8822       712\n",
            "    unstable     0.9190    0.9596    0.9389      1288\n",
            "\n",
            "    accuracy                         0.9195      2000\n",
            "   macro avg     0.9198    0.9033    0.9105      2000\n",
            "weighted avg     0.9195    0.9195    0.9187      2000\n",
            "\n"
          ]
        }
      ]
    },
    {
      "cell_type": "code",
      "source": [],
      "metadata": {
        "id": "cCbPbLfezExu"
      },
      "execution_count": 138,
      "outputs": []
    }
  ]
}